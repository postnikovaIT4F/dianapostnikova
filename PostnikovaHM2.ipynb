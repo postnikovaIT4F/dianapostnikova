# Откройте Anaconda Prompt и выполните следующию команду (команду также можно выполнить из ячейки Jupyter),
_pip install psycopg2,
# (для MacOS):
_pip install psycopg2-binary

#Создаем соединение c базой данных (ВНИМАНИЕ! Ваши данные для подключения с БД могут отличаться от данного примера)
import psycopg2 # драйвер для postgresql
import getpass  # прячем пароль, чтобы не писать его в параметрах

conn=psycopg2.connect(user = 'postgres',
                     database = 'postgres',
                     host = 'localhost',
                     port = '5432',
                     password = getpass.getpass('Insert password: ')
                     )
print(conn.get_dsn_parameters())

# Получение данных, необходимых для пункта 3 из БД с помощью pandas. Для удобства просортируем данные сначала по id компании (comp_id), потом по дате (date)
import pandas as pd
query="SELECT comp_id, grade, date FROM ratings ORDER BY comp_id, date"
# Обратите внимание, что специальные символы Python в текстовых переменных следует отделять символом \,
# чтобы те воспринимались как обычный текст.
data = pd.read_sql_query(query, conn)
data




